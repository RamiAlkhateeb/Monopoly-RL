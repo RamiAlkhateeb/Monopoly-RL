{
 "cells": [
  {
   "cell_type": "code",
   "execution_count": 1,
   "id": "9382b9a8-2a9e-4591-bc13-b6749c084852",
   "metadata": {
    "tags": []
   },
   "outputs": [],
   "source": [
    "import gym\n",
    "from stable_baselines3 import PPO\n",
    "from stable_baselines3.common.vec_env  import DummyVecEnv\n",
    "import numpy as np"
   ]
  },
  {
   "cell_type": "code",
   "execution_count": 2,
   "id": "0f5be1c8-56ef-4099-9fee-36714fd024ee",
   "metadata": {
    "tags": []
   },
   "outputs": [],
   "source": [
    "# Define a custom environment\n",
    "class CustomEnvironment(gym.Env):\n",
    "    def __init__(self):\n",
    "        super(CustomEnvironment, self).__init__()\n",
    "        self.num_elements = 8\n",
    "        self.best_list = np.random.rand(self.num_elements)  # Initialize with random values\n",
    "        self.observation_space = gym.spaces.Box(low=0, high=1, shape=(self.num_elements,))\n",
    "        self.action_space = gym.spaces.Box(low=0, high=1, shape=(self.num_elements,))\n",
    "\n",
    "    def step(self, action):\n",
    "        # Simulate the game\n",
    "        # In a real application, replace this with your game logic and calculate the winning rate\n",
    "        winning_rate = np.sum(self.best_list * action)\n",
    "        reward = winning_rate  # Reward is the winning rate\n",
    "        done = True  # For simplicity, we'll consider a single-step environment\n",
    "        return self.best_list, reward, done, {}\n",
    "\n",
    "    def reset(self):\n",
    "        return self.best_list"
   ]
  },
  {
   "cell_type": "code",
   "execution_count": 4,
   "id": "4fcdc17a-6d94-4fef-88f7-b008ba322d2f",
   "metadata": {},
   "outputs": [
    {
     "name": "stderr",
     "output_type": "stream",
     "text": [
      "c:\\Users\\rami.alkhateeb\\AppData\\Local\\Programs\\Python\\Python39\\lib\\site-packages\\stable_baselines3\\common\\vec_env\\patch_gym.py:49: UserWarning: You provided an OpenAI Gym environment. We strongly recommend transitioning to Gymnasium environments. Stable-Baselines3 is automatically wrapping your environments in a compatibility layer, which could potentially cause issues.\n",
      "  warnings.warn(\n"
     ]
    },
    {
     "name": "stdout",
     "output_type": "stream",
     "text": [
      "Using cpu device\n",
      "-----------------------------\n",
      "| time/              |      |\n",
      "|    fps             | 2799 |\n",
      "|    iterations      | 1    |\n",
      "|    time_elapsed    | 0    |\n",
      "|    total_timesteps | 2048 |\n",
      "-----------------------------\n",
      "----------------------------------------\n",
      "| time/                   |            |\n",
      "|    fps                  | 1752       |\n",
      "|    iterations           | 2          |\n",
      "|    time_elapsed         | 2          |\n",
      "|    total_timesteps      | 4096       |\n",
      "| train/                  |            |\n",
      "|    approx_kl            | 0.08966977 |\n",
      "|    clip_fraction        | 0.61       |\n",
      "|    clip_range           | 0.2        |\n",
      "|    entropy_loss         | -11.5      |\n",
      "|    explained_variance   | -1.19e-07  |\n",
      "|    learning_rate        | 0.0003     |\n",
      "|    loss                 | 0.0384     |\n",
      "|    n_updates            | 10         |\n",
      "|    policy_gradient_loss | -0.131     |\n",
      "|    std                  | 1.02       |\n",
      "|    value_loss           | 0.345      |\n",
      "----------------------------------------\n",
      "---------------------------------------\n",
      "| time/                   |           |\n",
      "|    fps                  | 1482      |\n",
      "|    iterations           | 3         |\n",
      "|    time_elapsed         | 4         |\n",
      "|    total_timesteps      | 6144      |\n",
      "| train/                  |           |\n",
      "|    approx_kl            | 0.1083563 |\n",
      "|    clip_fraction        | 0.655     |\n",
      "|    clip_range           | 0.2       |\n",
      "|    entropy_loss         | -11.6     |\n",
      "|    explained_variance   | 0         |\n",
      "|    learning_rate        | 0.0003    |\n",
      "|    loss                 | 0.0291    |\n",
      "|    n_updates            | 20        |\n",
      "|    policy_gradient_loss | -0.134    |\n",
      "|    std                  | 1.04      |\n",
      "|    value_loss           | 0.348     |\n",
      "---------------------------------------\n",
      "-----------------------------------------\n",
      "| time/                   |             |\n",
      "|    fps                  | 1383        |\n",
      "|    iterations           | 4           |\n",
      "|    time_elapsed         | 5           |\n",
      "|    total_timesteps      | 8192        |\n",
      "| train/                  |             |\n",
      "|    approx_kl            | 0.101121515 |\n",
      "|    clip_fraction        | 0.66        |\n",
      "|    clip_range           | 0.2         |\n",
      "|    entropy_loss         | -11.6       |\n",
      "|    explained_variance   | 0           |\n",
      "|    learning_rate        | 0.0003      |\n",
      "|    loss                 | 0.033       |\n",
      "|    n_updates            | 30          |\n",
      "|    policy_gradient_loss | -0.136      |\n",
      "|    std                  | 1.03        |\n",
      "|    value_loss           | 0.371       |\n",
      "-----------------------------------------\n",
      "-----------------------------------------\n",
      "| time/                   |             |\n",
      "|    fps                  | 1332        |\n",
      "|    iterations           | 5           |\n",
      "|    time_elapsed         | 7           |\n",
      "|    total_timesteps      | 10240       |\n",
      "| train/                  |             |\n",
      "|    approx_kl            | 0.116172254 |\n",
      "|    clip_fraction        | 0.65        |\n",
      "|    clip_range           | 0.2         |\n",
      "|    entropy_loss         | -11.5       |\n",
      "|    explained_variance   | 5.96e-08    |\n",
      "|    learning_rate        | 0.0003      |\n",
      "|    loss                 | 0.021       |\n",
      "|    n_updates            | 40          |\n",
      "|    policy_gradient_loss | -0.133      |\n",
      "|    std                  | 1.02        |\n",
      "|    value_loss           | 0.352       |\n",
      "-----------------------------------------\n",
      "Best Combination of Elements (Policy): (array([1.        , 0.        , 0.        , 0.05168992, 1.        ,\n",
      "       1.        , 0.        , 0.        ], dtype=float32), None)\n"
     ]
    }
   ],
   "source": [
    "\n",
    "# Create a DummyVecEnv\n",
    "env = DummyVecEnv([lambda: CustomEnvironment()])\n",
    "\n",
    "# Define the PPO agent\n",
    "model = PPO(\"MlpPolicy\", env, verbose=1)\n",
    "\n",
    "# Train the agent to find the best combination of elements\n",
    "model.learn(total_timesteps=10000)\n",
    "\n",
    "# Extract the learned policy\n",
    "best_policy = model.predict(env.observation_space.sample())\n",
    "\n",
    "print(\"Best Combination of Elements (Policy):\", best_policy)"
   ]
  }
 ],
 "metadata": {
  "kernelspec": {
   "display_name": "Python 3 (ipykernel)",
   "language": "python",
   "name": "python3"
  },
  "language_info": {
   "codemirror_mode": {
    "name": "ipython",
    "version": 3
   },
   "file_extension": ".py",
   "mimetype": "text/x-python",
   "name": "python",
   "nbconvert_exporter": "python",
   "pygments_lexer": "ipython3",
   "version": "3.9.13"
  }
 },
 "nbformat": 4,
 "nbformat_minor": 5
}
